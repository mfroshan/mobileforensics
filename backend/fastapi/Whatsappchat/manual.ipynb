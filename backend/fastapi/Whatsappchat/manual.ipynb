{
 "cells": [
  {
   "cell_type": "code",
   "execution_count": null,
   "metadata": {
    "colab": {
     "base_uri": "https://localhost:8080/"
    },
    "id": "RQ2RDAWmUO6S",
    "outputId": "785df4da-e4d3-4c94-d137-57344374f46d"
   },
   "outputs": [
    {
     "name": "stdout",
     "output_type": "stream",
     "text": [
      "Mounted at /content/drive\n"
     ]
    }
   ],
   "source": [
    "from google.colab import drive\n",
    "drive.mount('/content/drive')"
   ]
  },
  {
   "cell_type": "code",
   "execution_count": null,
   "metadata": {
    "id": "567RPBWOdBbs"
   },
   "outputs": [],
   "source": [
    "import numpy\n",
    "import joblib\n",
    "import pandas as pd\n",
    "from tensorflow.keras.models import load_model\n",
    "from tensorflow.keras.preprocessing.text import one_hot\n",
    "from tensorflow.keras.preprocessing.sequence import pad_sequences"
   ]
  },
  {
   "cell_type": "code",
   "execution_count": null,
   "metadata": {
    "colab": {
     "base_uri": "https://localhost:8080/"
    },
    "id": "pPy3KcxQdL7U",
    "outputId": "731d3b4e-ddd2-4947-d8f1-680417314eef"
   },
   "outputs": [
    {
     "name": "stdout",
     "output_type": "stream",
     "text": [
      " Model loaded successfully!\n"
     ]
    }
   ],
   "source": [
    "model = load_model('/content/drive/MyDrive/matt/Projects/whatsapp/toxic_comment_model.keras', compile=False)\n",
    "print(\" Model loaded successfully!\")\n"
   ]
  },
  {
   "cell_type": "code",
   "execution_count": null,
   "metadata": {
    "colab": {
     "base_uri": "https://localhost:8080/"
    },
    "id": "99VaPQQzuf6n",
    "outputId": "2699e818-c6c9-4827-f196-0413a9c91a27"
   },
   "outputs": [
    {
     "name": "stdout",
     "output_type": "stream",
     "text": [
      "\n",
      "=== WhatsApp Message Toxicity Prediction ===\n",
      "Enter a WhatsApp message: i will kill you\n"
     ]
    }
   ],
   "source": [
    "print(\"\\n=== WhatsApp Message Toxicity Prediction ===\")\n",
    "message = input(\"Enter a WhatsApp message: \").strip()\n"
   ]
  },
  {
   "cell_type": "code",
   "execution_count": null,
   "metadata": {
    "id": "quX6o2QjuiPv"
   },
   "outputs": [],
   "source": [
    "message_length = len(message)\n",
    "num_exclamations = message.count('!')\n",
    "num_uppercase = sum(1 for c in message if c.isupper())\n",
    "num_bad_words = sum([1 for w in ['hate', 'kill', 'stupid', 'idiot'] if w in message.lower()])"
   ]
  },
  {
   "cell_type": "code",
   "execution_count": null,
   "metadata": {
    "id": "w8qmN-vtuo9f"
   },
   "outputs": [],
   "source": [
    "input_df = pd.DataFrame([{\n",
    "    'message_length': message_length,\n",
    "    'num_exclamations': num_exclamations,\n",
    "    'num_uppercase': num_uppercase,\n",
    "    'num_bad_words': num_bad_words\n",
    "}])"
   ]
  },
  {
   "cell_type": "code",
   "execution_count": null,
   "metadata": {
    "id": "io4s9nK8wN0T"
   },
   "outputs": [],
   "source": [
    "input_array = input_df.values.astype(np.float32)"
   ]
  },
  {
   "cell_type": "code",
   "execution_count": null,
   "metadata": {
    "colab": {
     "base_uri": "https://localhost:8080/"
    },
    "id": "FNU6AdCEurgi",
    "outputId": "7d1fdd7d-9e3e-4e38-f133-94ec41748f83"
   },
   "outputs": [
    {
     "name": "stdout",
     "output_type": "stream",
     "text": [
      "\u001b[1m1/1\u001b[0m \u001b[32m━━━━━━━━━━━━━━━━━━━━\u001b[0m\u001b[37m\u001b[0m \u001b[1m0s\u001b[0m 197ms/step\n"
     ]
    }
   ],
   "source": [
    "probability = model.predict(input_array)[0][0]\n",
    "prediction = 1 if probability >= 0.5 else 0\n"
   ]
  },
  {
   "cell_type": "code",
   "execution_count": null,
   "metadata": {
    "colab": {
     "base_uri": "https://localhost:8080/"
    },
    "id": "mA3-QHjGutxv",
    "outputId": "c9add5b0-c715-4d38-df55-6398aa47ba2c"
   },
   "outputs": [
    {
     "name": "stdout",
     "output_type": "stream",
     "text": [
      "\n",
      "🔍 Prediction Result:\n",
      " Toxic Comment? ➤ Yes\n",
      " Probability Score: 0.72\n"
     ]
    }
   ],
   "source": [
    "print(\"\\n🔍 Prediction Result:\")\n",
    "print(\" Toxic Comment? ➤\", \"Yes\" if prediction == 1 else \"No\")\n",
    "print(f\" Probability Score: {probability:.2f}\")"
   ]
  }
 ],
 "metadata": {
  "colab": {
   "provenance": []
  },
  "kernelspec": {
   "display_name": "Python 3 (ipykernel)",
   "language": "python",
   "name": "python3"
  },
  "language_info": {
   "codemirror_mode": {
    "name": "ipython",
    "version": 3
   },
   "file_extension": ".py",
   "mimetype": "text/x-python",
   "name": "python",
   "nbconvert_exporter": "python",
   "pygments_lexer": "ipython3",
   "version": "3.10.10"
  }
 },
 "nbformat": 4,
 "nbformat_minor": 4
}
